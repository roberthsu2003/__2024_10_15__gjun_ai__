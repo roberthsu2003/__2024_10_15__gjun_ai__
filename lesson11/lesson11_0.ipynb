{
 "cells": [
  {
   "cell_type": "code",
   "execution_count": 4,
   "metadata": {},
   "outputs": [
    {
     "name": "stdout",
     "output_type": "stream",
     "text": [
      "姓名:白世宏\n",
      "身高:148\n",
      "體重:110\n",
      "BMI:50.22\n",
      "狀態:您的體重:重度肥胖\n",
      "===========================\n",
      "姓名:鄭琇亞\n",
      "身高:187\n",
      "體重:103\n",
      "BMI:29.45\n",
      "狀態:您的體重:輕度肥胖\n",
      "===========================\n",
      "姓名:林建勳\n",
      "身高:163\n",
      "體重:72\n",
      "BMI:27.1\n",
      "狀態:您的體重:輕度肥胖\n",
      "===========================\n"
     ]
    }
   ],
   "source": [
    "import tools\n",
    "from tools import BMI\n",
    "\n",
    "if __name__ == '__main__':\n",
    "    nums = int(input('請輸入人數:'))\n",
    "    names:list[str] = tools.get_name(nums=nums)\n",
    "    students:list[BMI] = tools.generate_bmi(names=names)\n",
    "    for student in students:\n",
    "        print(f\"姓名:{student.name}\")\n",
    "        print(f\"身高:{student.height}\")\n",
    "        print(f\"體重:{student.weight}\")\n",
    "        print(f\"BMI:{student.get_bmi()}\")\n",
    "        print(f\"狀態:{student.get_status()}\")\n",
    "        print(\"===========================\")"
   ]
  }
 ],
 "metadata": {
  "kernelspec": {
   "display_name": "Python 3",
   "language": "python",
   "name": "python3"
  },
  "language_info": {
   "codemirror_mode": {
    "name": "ipython",
    "version": 3
   },
   "file_extension": ".py",
   "mimetype": "text/x-python",
   "name": "python",
   "nbconvert_exporter": "python",
   "pygments_lexer": "ipython3",
   "version": "3.10.15"
  }
 },
 "nbformat": 4,
 "nbformat_minor": 2
}
