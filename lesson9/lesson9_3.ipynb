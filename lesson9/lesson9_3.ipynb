{
 "cells": [
  {
   "cell_type": "code",
   "execution_count": 1,
   "metadata": {},
   "outputs": [],
   "source": [
    "class Person(object):\n",
    "    def __init__(self,name:str,age:int): #自訂的初始化,自訂參數\n",
    "        self.name = name #建立attribute name\n",
    "        self.age = age #建立attribute age\n",
    "    \n",
    "    def echo(self):#自訂的實體方法\n",
    "        print(f\"我的名字是{self.name}\")\n",
    "        print(f'我的age是:{self.age}')\n",
    "    \n",
    "class Student(Person):\n",
    "    pass    "
   ]
  },
  {
   "cell_type": "code",
   "execution_count": 2,
   "metadata": {},
   "outputs": [
    {
     "name": "stdout",
     "output_type": "stream",
     "text": [
      "我的名字是徐國堂\n",
      "我的age是:25\n"
     ]
    }
   ],
   "source": [
    "s1:Student = Student(name=\"徐國堂\",age=25)\n",
    "s1.echo()"
   ]
  },
  {
   "cell_type": "code",
   "execution_count": 3,
   "metadata": {},
   "outputs": [
    {
     "name": "stdout",
     "output_type": "stream",
     "text": [
      "我的名字是robert\n",
      "我的age是:43\n"
     ]
    }
   ],
   "source": [
    "s2:Student = Student(name=\"robert\",age=43)\n",
    "s2.echo()"
   ]
  }
 ],
 "metadata": {
  "kernelspec": {
   "display_name": "Python 3",
   "language": "python",
   "name": "python3"
  },
  "language_info": {
   "codemirror_mode": {
    "name": "ipython",
    "version": 3
   },
   "file_extension": ".py",
   "mimetype": "text/x-python",
   "name": "python",
   "nbconvert_exporter": "python",
   "pygments_lexer": "ipython3",
   "version": "3.10.15"
  }
 },
 "nbformat": 4,
 "nbformat_minor": 2
}
