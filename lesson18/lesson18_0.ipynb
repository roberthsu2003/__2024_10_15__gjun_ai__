{
 "cells": [
  {
   "cell_type": "code",
   "execution_count": null,
   "metadata": {},
   "outputs": [],
   "source": [
    "import yfinance as yf\n",
    "import pandas as pd\n",
    "\n",
    "all_data = {ticker:yf.download(ticker) for ticker in ['2330.TW','2303.TW','2454.TW','2317.TW']}\n",
    "all_data"
   ]
  },
  {
   "cell_type": "code",
   "execution_count": 4,
   "metadata": {},
   "outputs": [
    {
     "data": {
      "text/html": [
       "<div>\n",
       "<style scoped>\n",
       "    .dataframe tbody tr th:only-of-type {\n",
       "        vertical-align: middle;\n",
       "    }\n",
       "\n",
       "    .dataframe tbody tr th {\n",
       "        vertical-align: top;\n",
       "    }\n",
       "\n",
       "    .dataframe thead th {\n",
       "        text-align: right;\n",
       "    }\n",
       "</style>\n",
       "<table border=\"1\" class=\"dataframe\">\n",
       "  <thead>\n",
       "    <tr style=\"text-align: right;\">\n",
       "      <th></th>\n",
       "      <th>台積電</th>\n",
       "      <th>聯電</th>\n",
       "      <th>聯發科</th>\n",
       "      <th>鴻海</th>\n",
       "    </tr>\n",
       "    <tr>\n",
       "      <th>Date</th>\n",
       "      <th></th>\n",
       "      <th></th>\n",
       "      <th></th>\n",
       "      <th></th>\n",
       "    </tr>\n",
       "  </thead>\n",
       "  <tbody>\n",
       "    <tr>\n",
       "      <th>1993-01-05</th>\n",
       "      <td>NaN</td>\n",
       "      <td>NaN</td>\n",
       "      <td>NaN</td>\n",
       "      <td>0.399521</td>\n",
       "    </tr>\n",
       "    <tr>\n",
       "      <th>1993-01-06</th>\n",
       "      <td>NaN</td>\n",
       "      <td>NaN</td>\n",
       "      <td>NaN</td>\n",
       "      <td>0.392806</td>\n",
       "    </tr>\n",
       "    <tr>\n",
       "      <th>1993-01-07</th>\n",
       "      <td>NaN</td>\n",
       "      <td>NaN</td>\n",
       "      <td>NaN</td>\n",
       "      <td>0.391128</td>\n",
       "    </tr>\n",
       "    <tr>\n",
       "      <th>1993-01-08</th>\n",
       "      <td>NaN</td>\n",
       "      <td>NaN</td>\n",
       "      <td>NaN</td>\n",
       "      <td>0.379377</td>\n",
       "    </tr>\n",
       "    <tr>\n",
       "      <th>1993-01-11</th>\n",
       "      <td>NaN</td>\n",
       "      <td>NaN</td>\n",
       "      <td>NaN</td>\n",
       "      <td>0.381895</td>\n",
       "    </tr>\n",
       "    <tr>\n",
       "      <th>...</th>\n",
       "      <td>...</td>\n",
       "      <td>...</td>\n",
       "      <td>...</td>\n",
       "      <td>...</td>\n",
       "    </tr>\n",
       "    <tr>\n",
       "      <th>2024-12-13</th>\n",
       "      <td>1065.0</td>\n",
       "      <td>41.450001</td>\n",
       "      <td>1410.0</td>\n",
       "      <td>186.500000</td>\n",
       "    </tr>\n",
       "    <tr>\n",
       "      <th>2024-12-16</th>\n",
       "      <td>1085.0</td>\n",
       "      <td>41.450001</td>\n",
       "      <td>1385.0</td>\n",
       "      <td>182.000000</td>\n",
       "    </tr>\n",
       "    <tr>\n",
       "      <th>2024-12-17</th>\n",
       "      <td>1075.0</td>\n",
       "      <td>42.549999</td>\n",
       "      <td>1425.0</td>\n",
       "      <td>183.000000</td>\n",
       "    </tr>\n",
       "    <tr>\n",
       "      <th>2024-12-18</th>\n",
       "      <td>1085.0</td>\n",
       "      <td>43.700001</td>\n",
       "      <td>1420.0</td>\n",
       "      <td>184.500000</td>\n",
       "    </tr>\n",
       "    <tr>\n",
       "      <th>2024-12-19</th>\n",
       "      <td>1070.0</td>\n",
       "      <td>43.000000</td>\n",
       "      <td>1420.0</td>\n",
       "      <td>181.000000</td>\n",
       "    </tr>\n",
       "  </tbody>\n",
       "</table>\n",
       "<p>8044 rows × 4 columns</p>\n",
       "</div>"
      ],
      "text/plain": [
       "               台積電         聯電     聯發科          鴻海\n",
       "Date                                             \n",
       "1993-01-05     NaN        NaN     NaN    0.399521\n",
       "1993-01-06     NaN        NaN     NaN    0.392806\n",
       "1993-01-07     NaN        NaN     NaN    0.391128\n",
       "1993-01-08     NaN        NaN     NaN    0.379377\n",
       "1993-01-11     NaN        NaN     NaN    0.381895\n",
       "...            ...        ...     ...         ...\n",
       "2024-12-13  1065.0  41.450001  1410.0  186.500000\n",
       "2024-12-16  1085.0  41.450001  1385.0  182.000000\n",
       "2024-12-17  1075.0  42.549999  1425.0  183.000000\n",
       "2024-12-18  1085.0  43.700001  1420.0  184.500000\n",
       "2024-12-19  1070.0  43.000000  1420.0  181.000000\n",
       "\n",
       "[8044 rows x 4 columns]"
      ]
     },
     "execution_count": 4,
     "metadata": {},
     "output_type": "execute_result"
    }
   ],
   "source": [
    "new_data = {key:df[('Adj Close', key)] for key,df in all_data.items()}\n",
    "df = pd.DataFrame(new_data)\n",
    "df1 = df.rename(columns={\n",
    "    '2330.TW':'台積電',\n",
    "    '2303.TW':'聯電',\n",
    "    '2454.TW':'聯發科',\n",
    "    '2317.TW':'鴻海'\n",
    "})\n",
    "df1"
   ]
  },
  {
   "cell_type": "code",
   "execution_count": 7,
   "metadata": {},
   "outputs": [],
   "source": [
    "df2 = df1.dropna()"
   ]
  },
  {
   "cell_type": "code",
   "execution_count": 8,
   "metadata": {},
   "outputs": [
    {
     "name": "stdout",
     "output_type": "stream",
     "text": [
      "<class 'pandas.core.frame.DataFrame'>\n",
      "DatetimeIndex: 5815 entries, 2001-07-23 to 2024-12-19\n",
      "Data columns (total 4 columns):\n",
      " #   Column  Non-Null Count  Dtype  \n",
      "---  ------  --------------  -----  \n",
      " 0   台積電     5815 non-null   float64\n",
      " 1   聯電      5815 non-null   float64\n",
      " 2   聯發科     5815 non-null   float64\n",
      " 3   鴻海      5815 non-null   float64\n",
      "dtypes: float64(4)\n",
      "memory usage: 227.1 KB\n"
     ]
    }
   ],
   "source": [
    "df2.info()"
   ]
  },
  {
   "cell_type": "code",
   "execution_count": null,
   "metadata": {},
   "outputs": [],
   "source": [
    "df2"
   ]
  },
  {
   "cell_type": "code",
   "execution_count": 12,
   "metadata": {},
   "outputs": [],
   "source": [
    "df3 = df2.pct_change().dropna()"
   ]
  },
  {
   "cell_type": "code",
   "execution_count": 13,
   "metadata": {},
   "outputs": [
    {
     "data": {
      "text/html": [
       "<div>\n",
       "<style scoped>\n",
       "    .dataframe tbody tr th:only-of-type {\n",
       "        vertical-align: middle;\n",
       "    }\n",
       "\n",
       "    .dataframe tbody tr th {\n",
       "        vertical-align: top;\n",
       "    }\n",
       "\n",
       "    .dataframe thead th {\n",
       "        text-align: right;\n",
       "    }\n",
       "</style>\n",
       "<table border=\"1\" class=\"dataframe\">\n",
       "  <thead>\n",
       "    <tr style=\"text-align: right;\">\n",
       "      <th></th>\n",
       "      <th>台積電</th>\n",
       "      <th>聯電</th>\n",
       "      <th>聯發科</th>\n",
       "      <th>鴻海</th>\n",
       "    </tr>\n",
       "  </thead>\n",
       "  <tbody>\n",
       "    <tr>\n",
       "      <th>台積電</th>\n",
       "      <td>1.000000</td>\n",
       "      <td>0.599523</td>\n",
       "      <td>0.434737</td>\n",
       "      <td>0.487236</td>\n",
       "    </tr>\n",
       "    <tr>\n",
       "      <th>聯電</th>\n",
       "      <td>0.599523</td>\n",
       "      <td>1.000000</td>\n",
       "      <td>0.377358</td>\n",
       "      <td>0.424866</td>\n",
       "    </tr>\n",
       "    <tr>\n",
       "      <th>聯發科</th>\n",
       "      <td>0.434737</td>\n",
       "      <td>0.377358</td>\n",
       "      <td>1.000000</td>\n",
       "      <td>0.372232</td>\n",
       "    </tr>\n",
       "    <tr>\n",
       "      <th>鴻海</th>\n",
       "      <td>0.487236</td>\n",
       "      <td>0.424866</td>\n",
       "      <td>0.372232</td>\n",
       "      <td>1.000000</td>\n",
       "    </tr>\n",
       "  </tbody>\n",
       "</table>\n",
       "</div>"
      ],
      "text/plain": [
       "          台積電        聯電       聯發科        鴻海\n",
       "台積電  1.000000  0.599523  0.434737  0.487236\n",
       "聯電   0.599523  1.000000  0.377358  0.424866\n",
       "聯發科  0.434737  0.377358  1.000000  0.372232\n",
       "鴻海   0.487236  0.424866  0.372232  1.000000"
      ]
     },
     "execution_count": 13,
     "metadata": {},
     "output_type": "execute_result"
    }
   ],
   "source": [
    "df3.corr()"
   ]
  }
 ],
 "metadata": {
  "kernelspec": {
   "display_name": "Python 3",
   "language": "python",
   "name": "python3"
  },
  "language_info": {
   "codemirror_mode": {
    "name": "ipython",
    "version": 3
   },
   "file_extension": ".py",
   "mimetype": "text/x-python",
   "name": "python",
   "nbconvert_exporter": "python",
   "pygments_lexer": "ipython3",
   "version": "3.10.15"
  }
 },
 "nbformat": 4,
 "nbformat_minor": 2
}
