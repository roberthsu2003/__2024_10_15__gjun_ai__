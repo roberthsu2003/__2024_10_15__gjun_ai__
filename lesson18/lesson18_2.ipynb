{
 "cells": [
  {
   "cell_type": "code",
   "execution_count": 6,
   "metadata": {},
   "outputs": [],
   "source": [
    "import os\n",
    "import pandas as pd\n",
    "from pandas import DataFrame\n",
    "\n",
    "def merge_data(station_paths:list[str],info:str)->DataFrame:\n",
    "    '''\n",
    "    傳出所有的資料\n",
    "    '''\n",
    "    info_df = pd.read_csv(info)\n",
    "    merge_datas = []\n",
    "    for sta_path in station_paths:\n",
    "        station_df = pd.read_csv(sta_path)\n",
    "        merge_df = pd.merge(station_df, info_df,how='left',left_on='staCode',right_on='stationCode')\n",
    "        merge_datas.append(merge_df)\n",
    "    return pd.concat(merge_datas)\n",
    "\n",
    "\n",
    "current_folder = os.getcwd()\n",
    "stations_folder = os.path.join(current_folder,'stations')\n",
    "csv_abs_files = []\n",
    "for filename in os.listdir(stations_folder):\n",
    "    if '每日各站' in filename:\n",
    "        csv_abs_files.append(os.path.join(stations_folder,filename))\n",
    "\n",
    "info_path = os.path.join(stations_folder,'台鐵車站資訊.csv')\n",
    "\n",
    "\n",
    "df = merge_data(csv_abs_files,info_path)\n",
    "df1 = df[['trnOpDate','gateInComingCnt','gateOutGoingCnt','name','stationAddrTw','haveBike']]"
   ]
  },
  {
   "cell_type": "code",
   "execution_count": null,
   "metadata": {},
   "outputs": [],
   "source": [
    "df1.columns = ['日期','進站人數','出站人數','站名','地址','youbike']\n",
    "df1"
   ]
  },
  {
   "cell_type": "code",
   "execution_count": 9,
   "metadata": {},
   "outputs": [
    {
     "name": "stdout",
     "output_type": "stream",
     "text": [
      "<class 'pandas.core.frame.DataFrame'>\n",
      "Index: 406761 entries, 0 to 86551\n",
      "Data columns (total 6 columns):\n",
      " #   Column   Non-Null Count   Dtype \n",
      "---  ------   --------------   ----- \n",
      " 0   日期       406761 non-null  int64 \n",
      " 1   進站人數     406761 non-null  int64 \n",
      " 2   出站人數     406761 non-null  int64 \n",
      " 3   站名       406761 non-null  object\n",
      " 4   地址       406761 non-null  object\n",
      " 5   youbike  406761 non-null  object\n",
      "dtypes: int64(3), object(3)\n",
      "memory usage: 21.7+ MB\n"
     ]
    }
   ],
   "source": [
    "df1.info()"
   ]
  },
  {
   "cell_type": "code",
   "execution_count": 13,
   "metadata": {},
   "outputs": [
    {
     "name": "stderr",
     "output_type": "stream",
     "text": [
      "/tmp/ipykernel_26811/2187283081.py:1: SettingWithCopyWarning: \n",
      "A value is trying to be set on a copy of a slice from a DataFrame.\n",
      "Try using .loc[row_indexer,col_indexer] = value instead\n",
      "\n",
      "See the caveats in the documentation: https://pandas.pydata.org/pandas-docs/stable/user_guide/indexing.html#returning-a-view-versus-a-copy\n",
      "  df1['日期'] = pd.to_datetime(df1['日期'].astype(str))\n"
     ]
    }
   ],
   "source": [
    "df1['日期'] = pd.to_datetime(df1['日期'].astype(str))\n"
   ]
  },
  {
   "cell_type": "code",
   "execution_count": 17,
   "metadata": {},
   "outputs": [
    {
     "name": "stderr",
     "output_type": "stream",
     "text": [
      "/tmp/ipykernel_26811/1675081192.py:1: SettingWithCopyWarning: \n",
      "A value is trying to be set on a copy of a slice from a DataFrame.\n",
      "Try using .loc[row_indexer,col_indexer] = value instead\n",
      "\n",
      "See the caveats in the documentation: https://pandas.pydata.org/pandas-docs/stable/user_guide/indexing.html#returning-a-view-versus-a-copy\n",
      "  df1['youbike'] = df1['youbike'].map({'Y':1,'N':0})\n"
     ]
    }
   ],
   "source": [
    "df1['youbike'] = df1['youbike'].map({'Y':1,'N':0})"
   ]
  },
  {
   "cell_type": "code",
   "execution_count": 22,
   "metadata": {},
   "outputs": [],
   "source": [
    "df2 = df1.sort_values(by='日期')\n",
    "df3 = df2.set_index('日期')"
   ]
  },
  {
   "cell_type": "code",
   "execution_count": 23,
   "metadata": {},
   "outputs": [
    {
     "data": {
      "text/html": [
       "<div>\n",
       "<style scoped>\n",
       "    .dataframe tbody tr th:only-of-type {\n",
       "        vertical-align: middle;\n",
       "    }\n",
       "\n",
       "    .dataframe tbody tr th {\n",
       "        vertical-align: top;\n",
       "    }\n",
       "\n",
       "    .dataframe thead th {\n",
       "        text-align: right;\n",
       "    }\n",
       "</style>\n",
       "<table border=\"1\" class=\"dataframe\">\n",
       "  <thead>\n",
       "    <tr style=\"text-align: right;\">\n",
       "      <th></th>\n",
       "      <th>進站人數</th>\n",
       "      <th>出站人數</th>\n",
       "      <th>站名</th>\n",
       "      <th>地址</th>\n",
       "      <th>youbike</th>\n",
       "    </tr>\n",
       "    <tr>\n",
       "      <th>日期</th>\n",
       "      <th></th>\n",
       "      <th></th>\n",
       "      <th></th>\n",
       "      <th></th>\n",
       "      <th></th>\n",
       "    </tr>\n",
       "  </thead>\n",
       "  <tbody>\n",
       "    <tr>\n",
       "      <th>2019-04-23</th>\n",
       "      <td>2516</td>\n",
       "      <td>2667</td>\n",
       "      <td>永康</td>\n",
       "      <td>臺南市永康區埔園里中山路 459 號</td>\n",
       "      <td>1</td>\n",
       "    </tr>\n",
       "    <tr>\n",
       "      <th>2019-04-23</th>\n",
       "      <td>19</td>\n",
       "      <td>21</td>\n",
       "      <td>源泉</td>\n",
       "      <td>彰化縣二水鄉合興村英義路 (無站房)</td>\n",
       "      <td>0</td>\n",
       "    </tr>\n",
       "    <tr>\n",
       "      <th>2019-04-23</th>\n",
       "      <td>70</td>\n",
       "      <td>63</td>\n",
       "      <td>濁水</td>\n",
       "      <td>南投縣名間鄉濁水村車站路 15 號</td>\n",
       "      <td>0</td>\n",
       "    </tr>\n",
       "    <tr>\n",
       "      <th>2019-04-23</th>\n",
       "      <td>8</td>\n",
       "      <td>12</td>\n",
       "      <td>龍泉</td>\n",
       "      <td>南投縣集集鎮隘寮村龍泉巷 (無站房)</td>\n",
       "      <td>0</td>\n",
       "    </tr>\n",
       "    <tr>\n",
       "      <th>2019-04-23</th>\n",
       "      <td>299</td>\n",
       "      <td>127</td>\n",
       "      <td>集集</td>\n",
       "      <td>南投縣集集鎮吳厝里民生路 75 號</td>\n",
       "      <td>0</td>\n",
       "    </tr>\n",
       "    <tr>\n",
       "      <th>...</th>\n",
       "      <td>...</td>\n",
       "      <td>...</td>\n",
       "      <td>...</td>\n",
       "      <td>...</td>\n",
       "      <td>...</td>\n",
       "    </tr>\n",
       "    <tr>\n",
       "      <th>2023-12-31</th>\n",
       "      <td>19617</td>\n",
       "      <td>16699</td>\n",
       "      <td>彰化</td>\n",
       "      <td>彰化縣彰化市長樂里三民路 1 號</td>\n",
       "      <td>1</td>\n",
       "    </tr>\n",
       "    <tr>\n",
       "      <th>2023-12-31</th>\n",
       "      <td>1864</td>\n",
       "      <td>1532</td>\n",
       "      <td>花壇</td>\n",
       "      <td>彰化縣花壇鄉花壇村中正路 370 號</td>\n",
       "      <td>1</td>\n",
       "    </tr>\n",
       "    <tr>\n",
       "      <th>2023-12-31</th>\n",
       "      <td>1315</td>\n",
       "      <td>1100</td>\n",
       "      <td>大村</td>\n",
       "      <td>彰化縣大村鄉過溝村福進路 100 號</td>\n",
       "      <td>0</td>\n",
       "    </tr>\n",
       "    <tr>\n",
       "      <th>2023-12-31</th>\n",
       "      <td>781</td>\n",
       "      <td>778</td>\n",
       "      <td>頭家厝</td>\n",
       "      <td>臺中市潭子區頭張東路43巷8號</td>\n",
       "      <td>0</td>\n",
       "    </tr>\n",
       "    <tr>\n",
       "      <th>2023-12-31</th>\n",
       "      <td>576</td>\n",
       "      <td>447</td>\n",
       "      <td>暖暖</td>\n",
       "      <td>基隆市暖暖區暖暖里暖暖街 51 號</td>\n",
       "      <td>0</td>\n",
       "    </tr>\n",
       "  </tbody>\n",
       "</table>\n",
       "<p>406761 rows × 5 columns</p>\n",
       "</div>"
      ],
      "text/plain": [
       "             進站人數   出站人數   站名                  地址  youbike\n",
       "日期                                                        \n",
       "2019-04-23   2516   2667   永康  臺南市永康區埔園里中山路 459 號        1\n",
       "2019-04-23     19     21   源泉  彰化縣二水鄉合興村英義路 (無站房)        0\n",
       "2019-04-23     70     63   濁水   南投縣名間鄉濁水村車站路 15 號        0\n",
       "2019-04-23      8     12   龍泉  南投縣集集鎮隘寮村龍泉巷 (無站房)        0\n",
       "2019-04-23    299    127   集集   南投縣集集鎮吳厝里民生路 75 號        0\n",
       "...           ...    ...  ...                 ...      ...\n",
       "2023-12-31  19617  16699   彰化    彰化縣彰化市長樂里三民路 1 號        1\n",
       "2023-12-31   1864   1532   花壇  彰化縣花壇鄉花壇村中正路 370 號        1\n",
       "2023-12-31   1315   1100   大村  彰化縣大村鄉過溝村福進路 100 號        0\n",
       "2023-12-31    781    778  頭家厝     臺中市潭子區頭張東路43巷8號        0\n",
       "2023-12-31    576    447   暖暖   基隆市暖暖區暖暖里暖暖街 51 號        0\n",
       "\n",
       "[406761 rows x 5 columns]"
      ]
     },
     "execution_count": 23,
     "metadata": {},
     "output_type": "execute_result"
    }
   ],
   "source": [
    "df3"
   ]
  }
 ],
 "metadata": {
  "kernelspec": {
   "display_name": "Python 3",
   "language": "python",
   "name": "python3"
  },
  "language_info": {
   "codemirror_mode": {
    "name": "ipython",
    "version": 3
   },
   "file_extension": ".py",
   "mimetype": "text/x-python",
   "name": "python",
   "nbconvert_exporter": "python",
   "pygments_lexer": "ipython3",
   "version": "3.10.15"
  }
 },
 "nbformat": 4,
 "nbformat_minor": 2
}
