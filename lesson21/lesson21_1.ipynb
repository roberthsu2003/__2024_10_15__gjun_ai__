{
 "cells": [
  {
   "cell_type": "code",
   "execution_count": 5,
   "metadata": {},
   "outputs": [],
   "source": [
    "import os\n",
    "from dotenv import load_dotenv\n",
    "load_dotenv()\n",
    "key=os.environ['Gemini_API_KEY']"
   ]
  },
  {
   "cell_type": "code",
   "execution_count": 6,
   "metadata": {},
   "outputs": [
    {
     "name": "stdout",
     "output_type": "stream",
     "text": [
      "```html\n",
      "<!DOCTYPE html>\n",
      "<html lang=\"zh-TW\">\n",
      "<head>\n",
      "    <meta charset=\"UTF-8\">\n",
      "    <meta name=\"viewport\" content=\"width=device-width, initial-scale=1.0\">\n",
      "    <title>如何學習 Python</title>\n",
      "    <style>\n",
      "        body {\n",
      "            font-family: sans-serif;\n",
      "            line-height: 1.6;\n",
      "        }\n",
      "        h1, h2 {\n",
      "            color: #333;\n",
      "        }\n",
      "        ul {\n",
      "            list-style-type: disc;\n",
      "            margin-left: 20px;\n",
      "        }\n",
      "        a {\n",
      "            color: #007bff;\n",
      "            text-decoration: none;\n",
      "        }\n",
      "        a:hover {\n",
      "            text-decoration: underline;\n",
      "        }\n",
      "    </style>\n",
      "</head>\n",
      "<body>\n",
      "    <h1>如何學習 Python</h1>\n",
      "\n",
      "    <p>學習 Python 是一個循序漸進的過程，以下是一些建議的步驟：</p>\n",
      "\n",
      "    <h2>1. 選擇學習資源</h2>\n",
      "    <ul>\n",
      "        <li><strong>線上課程：</strong>\n",
      "            <ul>\n",
      "                <li><a href=\"https://www.coursera.org/\">Coursera</a> (提供許多 Python 課程，包含入門到進階)</li>\n",
      "                <li><a href=\"https://www.udemy.com/\">Udemy</a> (大量 Python 課程，價格多樣)</li>\n",
      "                <li><a href=\"https://www.codecademy.com/\">Codecademy</a> (互動式學習平台，適合初學者)</li>\n",
      "                <li><a href=\"https://www.freecodecamp.org/\">freeCodeCamp</a> (免費的線上課程，涵蓋網頁開發及 Python)</li>\n",
      "            </ul>\n",
      "        </li>\n",
      "        <li><strong>書籍：</strong>  許多優秀的 Python 教材，選擇適合自己程度的書籍。</li>\n",
      "        <li><strong>官方文件：</strong> <a href=\"https://docs.python.org/3/\">Python 官方文件</a> 是非常好的參考資源，但較適合有一定基礎的學習者。</li>\n",
      "        <li><strong>YouTube 教程：</strong> YouTube 上有許多 Python 教程影片，可以根據自己的學習風格選擇。</li>\n",
      "    </ul>\n",
      "\n",
      "    <h2>2. 制定學習計畫</h2>\n",
      "    <p>設定合理的學習目標和時間表，循序漸進地學習，避免過於急躁。</p>\n",
      "    <ul>\n",
      "        <li>從基礎開始，逐步學習更進階的內容。</li>\n",
      "        <li>定期練習，將所學知識應用到實際案例中。</li>\n",
      "        <li>不要害怕犯錯，從錯誤中學習。</li>\n",
      "    </ul>\n",
      "\n",
      "    <h2>3. 練習編寫程式碼</h2>\n",
      "    <p>程式設計是需要大量練習的技能，只有不斷地編寫程式碼，才能熟練掌握 Python。</p>\n",
      "    <ul>\n",
      "        <li>嘗試完成一些小的程式設計項目。</li>\n",
      "        <li>參與線上社群，與其他學習者交流學習經驗。</li>\n",
      "        <li>使用線上編譯器 (例如：Repl.it, OnlineGDB) 方便練習。</li>\n",
      "    </ul>\n",
      "\n",
      "    <h2>4. 持之以恆</h2>\n",
      "    <p>學習程式設計需要時間和耐心，堅持不懈才能最終掌握 Python。</p>\n",
      "\n",
      "    <h2>5. 選擇一個領域專精</h2>\n",
      "    <p>Python應用廣泛，例如：資料科學、網頁開發、機器學習等等。選擇一個感興趣的領域，可以更有動力學習。</p>\n",
      "\n",
      "\n",
      "</body>\n",
      "</html>\n",
      "```\n",
      "\n"
     ]
    }
   ],
   "source": [
    "import google.generativeai as genai\n",
    "\n",
    "genai.configure(api_key=key)\n",
    "model = genai.GenerativeModel(\"gemini-1.5-flash\")\n",
    "response = model.generate_content(\"如何學習python?,回應請輸出成為html格式\")\n",
    "print(response.text)"
   ]
  }
 ],
 "metadata": {
  "kernelspec": {
   "display_name": "Python 3",
   "language": "python",
   "name": "python3"
  },
  "language_info": {
   "codemirror_mode": {
    "name": "ipython",
    "version": 3
   },
   "file_extension": ".py",
   "mimetype": "text/x-python",
   "name": "python",
   "nbconvert_exporter": "python",
   "pygments_lexer": "ipython3",
   "version": "3.10.15"
  }
 },
 "nbformat": 4,
 "nbformat_minor": 2
}
