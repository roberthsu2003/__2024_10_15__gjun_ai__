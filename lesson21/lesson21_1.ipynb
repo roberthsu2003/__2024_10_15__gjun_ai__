{
 "cells": [
  {
   "cell_type": "code",
   "execution_count": 3,
   "metadata": {},
   "outputs": [
    {
     "ename": "KeyError",
     "evalue": "'Gemini_API_KEY'",
     "output_type": "error",
     "traceback": [
      "\u001b[0;31m---------------------------------------------------------------------------\u001b[0m",
      "\u001b[0;31mKeyError\u001b[0m                                  Traceback (most recent call last)",
      "Cell \u001b[0;32mIn[3], line 2\u001b[0m\n\u001b[1;32m      1\u001b[0m \u001b[38;5;28;01mimport\u001b[39;00m \u001b[38;5;21;01mos\u001b[39;00m\n\u001b[0;32m----> 2\u001b[0m key\u001b[38;5;241m=\u001b[39m\u001b[43mos\u001b[49m\u001b[38;5;241;43m.\u001b[39;49m\u001b[43menviron\u001b[49m\u001b[43m[\u001b[49m\u001b[38;5;124;43m'\u001b[39;49m\u001b[38;5;124;43mGemini_API_KEY\u001b[39;49m\u001b[38;5;124;43m'\u001b[39;49m\u001b[43m]\u001b[49m\n",
      "File \u001b[0;32m/usr/local/lib/python3.10/os.py:680\u001b[0m, in \u001b[0;36m_Environ.__getitem__\u001b[0;34m(self, key)\u001b[0m\n\u001b[1;32m    677\u001b[0m     value \u001b[38;5;241m=\u001b[39m \u001b[38;5;28mself\u001b[39m\u001b[38;5;241m.\u001b[39m_data[\u001b[38;5;28mself\u001b[39m\u001b[38;5;241m.\u001b[39mencodekey(key)]\n\u001b[1;32m    678\u001b[0m \u001b[38;5;28;01mexcept\u001b[39;00m \u001b[38;5;167;01mKeyError\u001b[39;00m:\n\u001b[1;32m    679\u001b[0m     \u001b[38;5;66;03m# raise KeyError with the original key value\u001b[39;00m\n\u001b[0;32m--> 680\u001b[0m     \u001b[38;5;28;01mraise\u001b[39;00m \u001b[38;5;167;01mKeyError\u001b[39;00m(key) \u001b[38;5;28;01mfrom\u001b[39;00m \u001b[38;5;28;01mNone\u001b[39;00m\n\u001b[1;32m    681\u001b[0m \u001b[38;5;28;01mreturn\u001b[39;00m \u001b[38;5;28mself\u001b[39m\u001b[38;5;241m.\u001b[39mdecodevalue(value)\n",
      "\u001b[0;31mKeyError\u001b[0m: 'Gemini_API_KEY'"
     ]
    }
   ],
   "source": [
    "import os\n",
    "key=os.environ['Gemini_API_KEY']"
   ]
  },
  {
   "cell_type": "code",
   "execution_count": 2,
   "metadata": {},
   "outputs": [
    {
     "name": "stderr",
     "output_type": "stream",
     "text": [
      "/home/vscode/.local/lib/python3.10/site-packages/tqdm/auto.py:21: TqdmWarning: IProgress not found. Please update jupyter and ipywidgets. See https://ipywidgets.readthedocs.io/en/stable/user_install.html\n",
      "  from .autonotebook import tqdm as notebook_tqdm\n"
     ]
    },
    {
     "name": "stdout",
     "output_type": "stream",
     "text": [
      "```html\n",
      "<!DOCTYPE html>\n",
      "<html lang=\"zh-TW\">\n",
      "<head>\n",
      "    <meta charset=\"UTF-8\">\n",
      "    <meta name=\"viewport\" content=\"width=device-width, initial-scale=1.0\">\n",
      "    <title>如何學習 Python</title>\n",
      "    <style>\n",
      "        body {\n",
      "            font-family: sans-serif;\n",
      "            line-height: 1.6;\n",
      "        }\n",
      "        h1, h2 {\n",
      "            color: #333;\n",
      "        }\n",
      "        ul {\n",
      "            list-style-type: disc;\n",
      "            margin-left: 20px;\n",
      "        }\n",
      "        a {\n",
      "            color: #007bff;\n",
      "            text-decoration: none;\n",
      "        }\n",
      "        a:hover {\n",
      "            text-decoration: underline;\n",
      "        }\n",
      "    </style>\n",
      "</head>\n",
      "<body>\n",
      "    <h1>如何學習 Python</h1>\n",
      "\n",
      "    <p>學習 Python 的旅程充滿樂趣，以下是一些建議，幫助你循序漸進地掌握這門程式語言：</p>\n",
      "\n",
      "    <h2>1. 選擇學習資源</h2>\n",
      "    <ul>\n",
      "        <li><strong>線上課程：</strong></li>\n",
      "        <ul>\n",
      "            <li><a href=\"https://www.codecademy.com/learn/learn-python-3\" target=\"_blank\">Codecademy</a> (互動式教學，適合初學者)</li>\n",
      "            <li><a href=\"https://www.coursera.org/learn/python\" target=\"_blank\">Coursera</a> (提供多種 Python 課程，從入門到進階)</li>\n",
      "            <li><a href=\"https://www.udemy.com/topic/python/\" target=\"_blank\">Udemy</a> (豐富的 Python 課程選擇，價格差異大)</li>\n",
      "            <li><a href=\"https://www.youtube.com/results?search_query=python+tutorial\" target=\"_blank\">YouTube 教程</a> (許多免費教學影片，但品質參差不齊)</li>\n",
      "        </ul>\n",
      "        <li><strong>書籍：</strong></li>\n",
      "        <ul>\n",
      "            <li>《Python 程式設計入門指南》</li>\n",
      "            <li>《笨方法學 Python》</li>\n",
      "            <li>《流畅的 Python》 (適合有一定程式基礎者)</li>\n",
      "        </ul>\n",
      "        <li><strong>官方文件：</strong> <a href=\"https://docs.python.org/3/\" target=\"_blank\">https://docs.python.org/3/</a> (詳盡的 Python 文件，適合查找特定函式或模組)</li>\n",
      "    </ul>\n",
      "\n",
      "    <h2>2. 制定學習計畫</h2>\n",
      "    <p>根據自己的學習速度和目標，制定一個可行的學習計畫。例如，每天撥出固定時間學習，並設定階段性目標。</p>\n",
      "\n",
      "    <h2>3. 練習實作</h2>\n",
      "    <p>程式設計是熟能生巧的過程，大量的練習是必不可少的。嘗試完成一些小專案，例如：計算器、文字遊戲、簡單的網頁爬蟲等，逐步提升你的技能。</p>\n",
      "\n",
      "    <h2>4. 加入社群</h2>\n",
      "    <p>與其他 Python 開發者交流，可以互相學習，解決問題，並獲得更多靈感。可以加入線上論壇或社群，例如：Stack Overflow, Reddit 的 r/learnpython 等。</p>\n",
      "\n",
      "    <h2>5. 持之以恆</h2>\n",
      "    <p>學習程式設計需要耐心和毅力，不要輕易放棄。遇到困難時，可以參考學習資源，尋求幫助，並堅持下去。</p>\n",
      "\n",
      "    <h2>6. 選擇適合自己的學習方式</h2>\n",
      "    <p>有些人喜歡閱讀書籍，有些人喜歡觀看影片，有些人喜歡透過實作學習。找到適合自己的學習方式，才能事半功倍。</p>\n",
      "\n",
      "\n",
      "</body>\n",
      "</html>\n",
      "```\n",
      "\n"
     ]
    }
   ],
   "source": [
    "import google.generativeai as genai\n",
    "\n",
    "genai.configure(api_key=key)\n",
    "model = genai.GenerativeModel(\"gemini-1.5-flash\")\n",
    "response = model.generate_content(\"如何學習python?,回應請輸出成為html格式\")\n",
    "print(response.text)"
   ]
  }
 ],
 "metadata": {
  "kernelspec": {
   "display_name": "Python 3",
   "language": "python",
   "name": "python3"
  },
  "language_info": {
   "codemirror_mode": {
    "name": "ipython",
    "version": 3
   },
   "file_extension": ".py",
   "mimetype": "text/x-python",
   "name": "python",
   "nbconvert_exporter": "python",
   "pygments_lexer": "ipython3",
   "version": "3.10.15"
  }
 },
 "nbformat": 4,
 "nbformat_minor": 2
}
