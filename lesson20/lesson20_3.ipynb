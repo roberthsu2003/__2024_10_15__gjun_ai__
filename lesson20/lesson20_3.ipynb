{
 "cells": [
  {
   "cell_type": "code",
   "execution_count": 8,
   "metadata": {},
   "outputs": [
    {
     "data": {
      "text/plain": [
       "Date\n",
       "1990-02-01     328.79\n",
       "1990-02-02     330.92\n",
       "1990-02-05     331.85\n",
       "1990-02-06     329.66\n",
       "1990-02-07     333.75\n",
       "               ...   \n",
       "2011-10-10    1194.89\n",
       "2011-10-11    1195.54\n",
       "2011-10-12    1207.25\n",
       "2011-10-13    1203.66\n",
       "2011-10-14    1224.58\n",
       "Name: SPX, Length: 5472, dtype: float64"
      ]
     },
     "execution_count": 8,
     "metadata": {},
     "output_type": "execute_result"
    }
   ],
   "source": [
    "import pandas as pd\n",
    "\n",
    "data = pd.read_csv('spx.csv',index_col=0,parse_dates=True)\n",
    "series = data['SPX']\n",
    "series"
   ]
  }
 ],
 "metadata": {
  "kernelspec": {
   "display_name": "Python 3",
   "language": "python",
   "name": "python3"
  },
  "language_info": {
   "codemirror_mode": {
    "name": "ipython",
    "version": 3
   },
   "file_extension": ".py",
   "mimetype": "text/x-python",
   "name": "python",
   "nbconvert_exporter": "python",
   "pygments_lexer": "ipython3",
   "version": "3.10.15"
  }
 },
 "nbformat": 4,
 "nbformat_minor": 2
}
