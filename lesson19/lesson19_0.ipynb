{
 "cells": [
  {
   "cell_type": "code",
   "execution_count": 2,
   "metadata": {},
   "outputs": [
    {
     "name": "stdout",
     "output_type": "stream",
     "text": [
      "<class 'pandas.core.frame.DataFrame'>\n",
      "RangeIndex: 3065 entries, 0 to 3064\n",
      "Data columns (total 18 columns):\n",
      " #   Column  Non-Null Count  Dtype  \n",
      "---  ------  --------------  -----  \n",
      " 0   年別      3065 non-null   int64  \n",
      " 1   類型      3065 non-null   object \n",
      " 2   觀光遊憩區   3065 non-null   object \n",
      " 3   細分      3065 non-null   object \n",
      " 4   縣市別     3065 non-null   object \n",
      " 5   1月      3064 non-null   float64\n",
      " 6   2月      3064 non-null   float64\n",
      " 7   3月      3064 non-null   float64\n",
      " 8   4月      3064 non-null   float64\n",
      " 9   5月      3064 non-null   float64\n",
      " 10  6月      3064 non-null   float64\n",
      " 11  7月      3064 non-null   float64\n",
      " 12  8月      3064 non-null   float64\n",
      " 13  9月      3064 non-null   float64\n",
      " 14  10月     3064 non-null   float64\n",
      " 15  11月     2741 non-null   float64\n",
      " 16  12月     2741 non-null   float64\n",
      " 17  合計      3065 non-null   int64  \n",
      "dtypes: float64(12), int64(2), object(4)\n",
      "memory usage: 431.1+ KB\n"
     ]
    }
   ],
   "source": [
    "import pandas as pd\n",
    "\n",
    "df = pd.read_csv('歷年國內主要觀光遊憩據點遊客人數月別統計.csv')\n",
    "df.info()"
   ]
  },
  {
   "cell_type": "code",
   "execution_count": 4,
   "metadata": {},
   "outputs": [
    {
     "name": "stdout",
     "output_type": "stream",
     "text": [
      "<class 'pandas.core.frame.DataFrame'>\n",
      "Index: 2741 entries, 0 to 2741\n",
      "Data columns (total 18 columns):\n",
      " #   Column  Non-Null Count  Dtype  \n",
      "---  ------  --------------  -----  \n",
      " 0   年別      2741 non-null   int64  \n",
      " 1   類型      2741 non-null   object \n",
      " 2   觀光遊憩區   2741 non-null   object \n",
      " 3   細分      2741 non-null   object \n",
      " 4   縣市別     2741 non-null   object \n",
      " 5   1月      2741 non-null   float64\n",
      " 6   2月      2741 non-null   float64\n",
      " 7   3月      2741 non-null   float64\n",
      " 8   4月      2741 non-null   float64\n",
      " 9   5月      2741 non-null   float64\n",
      " 10  6月      2741 non-null   float64\n",
      " 11  7月      2741 non-null   float64\n",
      " 12  8月      2741 non-null   float64\n",
      " 13  9月      2741 non-null   float64\n",
      " 14  10月     2741 non-null   float64\n",
      " 15  11月     2741 non-null   float64\n",
      " 16  12月     2741 non-null   float64\n",
      " 17  合計      2741 non-null   int64  \n",
      "dtypes: float64(12), int64(2), object(4)\n",
      "memory usage: 406.9+ KB\n"
     ]
    }
   ],
   "source": [
    "df1 = df.dropna()\n",
    "df1.info()"
   ]
  },
  {
   "cell_type": "code",
   "execution_count": 16,
   "metadata": {},
   "outputs": [
    {
     "name": "stdout",
     "output_type": "stream",
     "text": [
      "<class 'pandas.core.frame.DataFrame'>\n",
      "Index: 2741 entries, 0 to 2741\n",
      "Data columns (total 16 columns):\n",
      " #   Column  Non-Null Count  Dtype  \n",
      "---  ------  --------------  -----  \n",
      " 0   年別      2741 non-null   object \n",
      " 1   觀光遊憩區   2741 non-null   object \n",
      " 2   縣市別     2741 non-null   object \n",
      " 3   1月      2741 non-null   float64\n",
      " 4   2月      2741 non-null   float64\n",
      " 5   3月      2741 non-null   float64\n",
      " 6   4月      2741 non-null   float64\n",
      " 7   5月      2741 non-null   float64\n",
      " 8   6月      2741 non-null   float64\n",
      " 9   7月      2741 non-null   float64\n",
      " 10  8月      2741 non-null   float64\n",
      " 11  9月      2741 non-null   float64\n",
      " 12  10月     2741 non-null   float64\n",
      " 13  11月     2741 non-null   float64\n",
      " 14  12月     2741 non-null   float64\n",
      " 15  合計      2741 non-null   int64  \n",
      "dtypes: float64(12), int64(1), object(3)\n",
      "memory usage: 364.0+ KB\n"
     ]
    }
   ],
   "source": [
    "df2 = df1.drop(columns=['類型','細分'])\n",
    "df2['年別'] = df2['年別'].astype(str)\n",
    "df2.info()"
   ]
  },
  {
   "cell_type": "code",
   "execution_count": 20,
   "metadata": {},
   "outputs": [
    {
     "data": {
      "text/plain": [
       "(2741, 13)"
      ]
     },
     "execution_count": 20,
     "metadata": {},
     "output_type": "execute_result"
    }
   ],
   "source": [
    "df3 = df2.set_index(keys=['年別','觀光遊憩區','縣市別'])\n",
    "df3.columns.name='月份'\n",
    "df3.shape"
   ]
  },
  {
   "cell_type": "code",
   "execution_count": 22,
   "metadata": {},
   "outputs": [
    {
     "data": {
      "text/plain": [
       "(35633,)"
      ]
     },
     "execution_count": 22,
     "metadata": {},
     "output_type": "execute_result"
    }
   ],
   "source": [
    "df4 = df3.stack(level='月份')\n",
    "df4.shape"
   ]
  }
 ],
 "metadata": {
  "kernelspec": {
   "display_name": "Python 3",
   "language": "python",
   "name": "python3"
  },
  "language_info": {
   "codemirror_mode": {
    "name": "ipython",
    "version": 3
   },
   "file_extension": ".py",
   "mimetype": "text/x-python",
   "name": "python",
   "nbconvert_exporter": "python",
   "pygments_lexer": "ipython3",
   "version": "3.10.15"
  }
 },
 "nbformat": 4,
 "nbformat_minor": 2
}
