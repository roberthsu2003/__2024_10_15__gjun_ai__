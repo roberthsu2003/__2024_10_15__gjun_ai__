{
 "cells": [
  {
   "cell_type": "code",
   "execution_count": 2,
   "metadata": {},
   "outputs": [
    {
     "name": "stdout",
     "output_type": "stream",
     "text": [
      "<class 'pandas.core.frame.DataFrame'>\n",
      "RangeIndex: 3065 entries, 0 to 3064\n",
      "Data columns (total 18 columns):\n",
      " #   Column  Non-Null Count  Dtype  \n",
      "---  ------  --------------  -----  \n",
      " 0   年別      3065 non-null   int64  \n",
      " 1   類型      3065 non-null   object \n",
      " 2   觀光遊憩區   3065 non-null   object \n",
      " 3   細分      3065 non-null   object \n",
      " 4   縣市別     3065 non-null   object \n",
      " 5   1月      3064 non-null   float64\n",
      " 6   2月      3064 non-null   float64\n",
      " 7   3月      3064 non-null   float64\n",
      " 8   4月      3064 non-null   float64\n",
      " 9   5月      3064 non-null   float64\n",
      " 10  6月      3064 non-null   float64\n",
      " 11  7月      3064 non-null   float64\n",
      " 12  8月      3064 non-null   float64\n",
      " 13  9月      3064 non-null   float64\n",
      " 14  10月     3064 non-null   float64\n",
      " 15  11月     2741 non-null   float64\n",
      " 16  12月     2741 non-null   float64\n",
      " 17  合計      3065 non-null   int64  \n",
      "dtypes: float64(12), int64(2), object(4)\n",
      "memory usage: 431.1+ KB\n"
     ]
    }
   ],
   "source": [
    "import pandas as pd\n",
    "\n",
    "df = pd.read_csv('歷年國內主要觀光遊憩據點遊客人數月別統計.csv')\n",
    "df.info()"
   ]
  },
  {
   "cell_type": "code",
   "execution_count": 4,
   "metadata": {},
   "outputs": [
    {
     "name": "stdout",
     "output_type": "stream",
     "text": [
      "<class 'pandas.core.frame.DataFrame'>\n",
      "Index: 2741 entries, 0 to 2741\n",
      "Data columns (total 18 columns):\n",
      " #   Column  Non-Null Count  Dtype  \n",
      "---  ------  --------------  -----  \n",
      " 0   年別      2741 non-null   int64  \n",
      " 1   類型      2741 non-null   object \n",
      " 2   觀光遊憩區   2741 non-null   object \n",
      " 3   細分      2741 non-null   object \n",
      " 4   縣市別     2741 non-null   object \n",
      " 5   1月      2741 non-null   float64\n",
      " 6   2月      2741 non-null   float64\n",
      " 7   3月      2741 non-null   float64\n",
      " 8   4月      2741 non-null   float64\n",
      " 9   5月      2741 non-null   float64\n",
      " 10  6月      2741 non-null   float64\n",
      " 11  7月      2741 non-null   float64\n",
      " 12  8月      2741 non-null   float64\n",
      " 13  9月      2741 non-null   float64\n",
      " 14  10月     2741 non-null   float64\n",
      " 15  11月     2741 non-null   float64\n",
      " 16  12月     2741 non-null   float64\n",
      " 17  合計      2741 non-null   int64  \n",
      "dtypes: float64(12), int64(2), object(4)\n",
      "memory usage: 406.9+ KB\n"
     ]
    }
   ],
   "source": [
    "df1 = df.dropna()\n",
    "df1.info()"
   ]
  },
  {
   "cell_type": "code",
   "execution_count": 16,
   "metadata": {},
   "outputs": [
    {
     "name": "stdout",
     "output_type": "stream",
     "text": [
      "<class 'pandas.core.frame.DataFrame'>\n",
      "Index: 2741 entries, 0 to 2741\n",
      "Data columns (total 16 columns):\n",
      " #   Column  Non-Null Count  Dtype  \n",
      "---  ------  --------------  -----  \n",
      " 0   年別      2741 non-null   object \n",
      " 1   觀光遊憩區   2741 non-null   object \n",
      " 2   縣市別     2741 non-null   object \n",
      " 3   1月      2741 non-null   float64\n",
      " 4   2月      2741 non-null   float64\n",
      " 5   3月      2741 non-null   float64\n",
      " 6   4月      2741 non-null   float64\n",
      " 7   5月      2741 non-null   float64\n",
      " 8   6月      2741 non-null   float64\n",
      " 9   7月      2741 non-null   float64\n",
      " 10  8月      2741 non-null   float64\n",
      " 11  9月      2741 non-null   float64\n",
      " 12  10月     2741 non-null   float64\n",
      " 13  11月     2741 non-null   float64\n",
      " 14  12月     2741 non-null   float64\n",
      " 15  合計      2741 non-null   int64  \n",
      "dtypes: float64(12), int64(1), object(3)\n",
      "memory usage: 364.0+ KB\n"
     ]
    }
   ],
   "source": [
    "df2 = df1.drop(columns=['類型','細分'])\n",
    "df2['年別'] = df2['年別'].astype(str)\n",
    "df2.info()"
   ]
  },
  {
   "cell_type": "code",
   "execution_count": 20,
   "metadata": {},
   "outputs": [
    {
     "data": {
      "text/plain": [
       "(2741, 13)"
      ]
     },
     "execution_count": 20,
     "metadata": {},
     "output_type": "execute_result"
    }
   ],
   "source": [
    "df3 = df2.set_index(keys=['年別','觀光遊憩區','縣市別'])\n",
    "df3.columns.name='月份'\n",
    "df3.shape"
   ]
  },
  {
   "cell_type": "code",
   "execution_count": 22,
   "metadata": {},
   "outputs": [
    {
     "data": {
      "text/plain": [
       "(35633,)"
      ]
     },
     "execution_count": 22,
     "metadata": {},
     "output_type": "execute_result"
    }
   ],
   "source": [
    "df4 = df3.stack(level='月份')\n",
    "df4.shape"
   ]
  },
  {
   "cell_type": "code",
   "execution_count": 30,
   "metadata": {},
   "outputs": [
    {
     "data": {
      "text/plain": [
       "<bound method Series.info of 年別    觀光遊憩區    縣市別  月份 \n",
       "2012  陽明山國家公園  臺北市  1月      12187.0\n",
       "                    2月      18612.0\n",
       "                    3月      18580.0\n",
       "                    4月      13329.0\n",
       "                    5月      14179.0\n",
       "                             ...   \n",
       "2020  -        臺中市  9月     113214.0\n",
       "                    10月    158458.0\n",
       "                    11月    106662.0\n",
       "                    12月     92923.0\n",
       "                    合計     997502.0\n",
       "Length: 35633, dtype: float64>"
      ]
     },
     "metadata": {},
     "output_type": "display_data"
    },
    {
     "data": {
      "text/plain": [
       "Index(['1月', '2月', '3月', '4月', '5月', '6月', '7月', '8月', '9月', '10月',\n",
       "       ...\n",
       "       '4月', '5月', '6月', '7月', '8月', '9月', '10月', '11月', '12月', '合計'],\n",
       "      dtype='object', name='月份', length=35633)"
      ]
     },
     "execution_count": 30,
     "metadata": {},
     "output_type": "execute_result"
    }
   ],
   "source": [
    "display(df4.info)\n",
    "df4.index.get_level_values(level='月份')"
   ]
  },
  {
   "cell_type": "code",
   "execution_count": 26,
   "metadata": {},
   "outputs": [
    {
     "data": {
      "text/plain": [
       "Index(['臺北市', '臺北市', '臺北市', '臺北市', '臺北市', '臺北市', '臺北市', '臺北市', '臺北市', '臺北市',\n",
       "       ...\n",
       "       '臺中市', '臺中市', '臺中市', '臺中市', '臺中市', '臺中市', '臺中市', '臺中市', '臺中市', '臺中市'],\n",
       "      dtype='object', name='縣市別', length=35633)"
      ]
     },
     "execution_count": 26,
     "metadata": {},
     "output_type": "execute_result"
    }
   ],
   "source": [
    "\n",
    "df4.index.get_level_values(level='縣市別')"
   ]
  },
  {
   "cell_type": "code",
   "execution_count": null,
   "metadata": {},
   "outputs": [],
   "source": [
    "#索引的值有重覆,無法作unstack()\n",
    "df4.unstack(level='月份')"
   ]
  },
  {
   "cell_type": "code",
   "execution_count": 36,
   "metadata": {},
   "outputs": [
    {
     "data": {
      "text/plain": [
       "Index(['10月', '11月', '12月', '1月', '2月', '3月', '4月', '5月', '6月', '7月',\n",
       "       ...\n",
       "       '1月', '2月', '3月', '4月', '5月', '6月', '7月', '8月', '9月', '合計'],\n",
       "      dtype='object', name='月份', length=286)"
      ]
     },
     "execution_count": 36,
     "metadata": {},
     "output_type": "execute_result"
    }
   ],
   "source": [
    "df5 = df4.groupby(level=['縣市別','月份']).sum()\n",
    "df5.index.get_level_values('縣市別')\n",
    "df5.index.get_level_values('月份')"
   ]
  },
  {
   "cell_type": "code",
   "execution_count": 37,
   "metadata": {},
   "outputs": [
    {
     "data": {
      "text/plain": [
       "縣市別  月份 \n",
       "南投縣  10月     11630675.0\n",
       "     11月     11668019.0\n",
       "     12月     11118585.0\n",
       "     1月       9863804.0\n",
       "     2月      15470552.0\n",
       "               ...     \n",
       "高雄市  6月      15965843.0\n",
       "     7月      20859438.0\n",
       "     8月      19566066.0\n",
       "     9月      15940732.0\n",
       "     合計     275429217.0\n",
       "Length: 286, dtype: float64"
      ]
     },
     "execution_count": 37,
     "metadata": {},
     "output_type": "execute_result"
    }
   ],
   "source": [
    "df5"
   ]
  }
 ],
 "metadata": {
  "kernelspec": {
   "display_name": "Python 3",
   "language": "python",
   "name": "python3"
  },
  "language_info": {
   "codemirror_mode": {
    "name": "ipython",
    "version": 3
   },
   "file_extension": ".py",
   "mimetype": "text/x-python",
   "name": "python",
   "nbconvert_exporter": "python",
   "pygments_lexer": "ipython3",
   "version": "3.10.15"
  }
 },
 "nbformat": 4,
 "nbformat_minor": 2
}
