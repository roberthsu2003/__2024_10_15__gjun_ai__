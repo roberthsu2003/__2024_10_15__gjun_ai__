{
 "cells": [
  {
   "cell_type": "code",
   "execution_count": 1,
   "metadata": {},
   "outputs": [
    {
     "data": {
      "text/plain": [
       "array([[1, 2, 3],\n",
       "       [4, 5, 6]])"
      ]
     },
     "execution_count": 1,
     "metadata": {},
     "output_type": "execute_result"
    }
   ],
   "source": [
    "import numpy as np\n",
    "\n",
    "np.array([[1, 2, 3],[4, 5, 6]])"
   ]
  },
  {
   "cell_type": "code",
   "execution_count": 9,
   "metadata": {},
   "outputs": [
    {
     "data": {
      "text/plain": [
       "array([[91, 64, 73, 62, 55],\n",
       "       [95, 73, 63, 85, 72],\n",
       "       [65, 79, 53, 70, 75],\n",
       "       [66, 71, 94, 71, 79],\n",
       "       [92, 68, 99, 62, 82],\n",
       "       [77, 56, 96, 72, 58],\n",
       "       [65, 78, 68, 71, 81],\n",
       "       [59, 84, 53, 62, 86],\n",
       "       [71, 54, 88, 71, 86],\n",
       "       [98, 92, 69, 80, 65],\n",
       "       [95, 92, 99, 92, 90],\n",
       "       [98, 56, 64, 97, 60],\n",
       "       [68, 97, 58, 69, 91],\n",
       "       [52, 51, 74, 98, 62],\n",
       "       [85, 70, 96, 53, 67],\n",
       "       [67, 58, 59, 98, 86],\n",
       "       [50, 99, 62, 52, 97],\n",
       "       [91, 97, 90, 62, 90],\n",
       "       [69, 85, 77, 99, 93],\n",
       "       [67, 70, 78, 72, 66],\n",
       "       [92, 95, 84, 84, 96],\n",
       "       [95, 90, 73, 75, 93],\n",
       "       [66, 57, 68, 94, 89],\n",
       "       [81, 84, 64, 88, 60],\n",
       "       [63, 65, 67, 98, 57],\n",
       "       [93, 95, 97, 57, 98],\n",
       "       [97, 58, 98, 94, 97],\n",
       "       [52, 96, 68, 88, 76],\n",
       "       [84, 72, 92, 82, 94],\n",
       "       [95, 77, 54, 62, 52],\n",
       "       [91, 93, 99, 97, 69],\n",
       "       [88, 63, 73, 68, 86],\n",
       "       [95, 96, 65, 90, 58],\n",
       "       [69, 64, 56, 57, 94],\n",
       "       [69, 92, 72, 80, 89],\n",
       "       [53, 70, 60, 54, 68],\n",
       "       [57, 50, 75, 55, 66],\n",
       "       [89, 98, 80, 93, 90],\n",
       "       [75, 65, 81, 79, 74],\n",
       "       [76, 74, 79, 67, 98],\n",
       "       [65, 86, 60, 82, 65],\n",
       "       [75, 68, 59, 73, 56],\n",
       "       [82, 74, 87, 60, 85],\n",
       "       [57, 63, 93, 97, 93],\n",
       "       [88, 52, 96, 63, 70],\n",
       "       [80, 92, 60, 83, 81],\n",
       "       [92, 64, 70, 93, 74],\n",
       "       [94, 90, 78, 79, 84],\n",
       "       [60, 59, 82, 99, 97],\n",
       "       [74, 82, 61, 62, 97]])"
      ]
     },
     "execution_count": 9,
     "metadata": {},
     "output_type": "execute_result"
    }
   ],
   "source": [
    "np.random.randint(50,100,size=(50, 5))"
   ]
  },
  {
   "cell_type": "code",
   "execution_count": null,
   "metadata": {},
   "outputs": [],
   "source": [
    "np.random.randint(50,100,size=(3, 50, 5))"
   ]
  },
  {
   "cell_type": "code",
   "execution_count": 8,
   "metadata": {},
   "outputs": [
    {
     "data": {
      "text/plain": [
       "((3, 50, 5), 750, 3, dtype('int64'))"
      ]
     },
     "execution_count": 8,
     "metadata": {},
     "output_type": "execute_result"
    }
   ],
   "source": [
    "#查詢的property->shape,size,dtype,ndim\n",
    "\n",
    "grade5 = np.random.randint(50,100,size=(3, 50, 5))\n",
    "grade5.shape, grade5.size, grade5.ndim, grade5.dtype"
   ]
  }
 ],
 "metadata": {
  "kernelspec": {
   "display_name": "Python 3",
   "language": "python",
   "name": "python3"
  },
  "language_info": {
   "codemirror_mode": {
    "name": "ipython",
    "version": 3
   },
   "file_extension": ".py",
   "mimetype": "text/x-python",
   "name": "python",
   "nbconvert_exporter": "python",
   "pygments_lexer": "ipython3",
   "version": "3.10.15"
  }
 },
 "nbformat": 4,
 "nbformat_minor": 2
}
