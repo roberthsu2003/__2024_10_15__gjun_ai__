{
 "cells": [
  {
   "cell_type": "code",
   "execution_count": null,
   "metadata": {},
   "outputs": [],
   "source": [
    "import pandas as pd\n",
    "\n",
    "df1 = pd.read_csv('new各鄉鎮市區人口密度.csv')\n",
    "display(df1)\n",
    "def format1(value:int):\n",
    "    return f\"第{value}號\"\n",
    "df1.style\\\n",
    ".format(precision=2,thousands=',',decimal='.')\\\n",
    ".format_index(format1)"
   ]
  },
  {
   "cell_type": "code",
   "execution_count": null,
   "metadata": {},
   "outputs": [],
   "source": [
    "df1 = pd.read_csv('new各鄉鎮市區人口密度.csv')\n",
    "display(df1)\n",
    "df1.style\\\n",
    ".format(precision=2,thousands=',',decimal='.')\\\n",
    ".format_index(lambda value:f'第{value}號')"
   ]
  }
 ],
 "metadata": {
  "kernelspec": {
   "display_name": "Python 3",
   "language": "python",
   "name": "python3"
  },
  "language_info": {
   "codemirror_mode": {
    "name": "ipython",
    "version": 3
   },
   "file_extension": ".py",
   "mimetype": "text/x-python",
   "name": "python",
   "nbconvert_exporter": "python",
   "pygments_lexer": "ipython3",
   "version": "3.10.15"
  }
 },
 "nbformat": 4,
 "nbformat_minor": 2
}
