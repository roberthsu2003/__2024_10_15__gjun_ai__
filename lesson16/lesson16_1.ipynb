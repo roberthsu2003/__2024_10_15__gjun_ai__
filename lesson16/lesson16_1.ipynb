{
 "cells": [
  {
   "cell_type": "code",
   "execution_count": null,
   "metadata": {},
   "outputs": [],
   "source": [
    "import pandas as pd\n",
    "\n",
    "df1 = pd.read_csv('各鄉鎮市區人口密度.csv')\n",
    "df1"
   ]
  },
  {
   "cell_type": "code",
   "execution_count": 2,
   "metadata": {},
   "outputs": [
    {
     "name": "stdout",
     "output_type": "stream",
     "text": [
      "<class 'pandas.core.frame.DataFrame'>\n",
      "RangeIndex: 376 entries, 0 to 375\n",
      "Data columns (total 5 columns):\n",
      " #   Column              Non-Null Count  Dtype \n",
      "---  ------              --------------  ----- \n",
      " 0   statistic_yyy       371 non-null    object\n",
      " 1   site_id             375 non-null    object\n",
      " 2   people_total        371 non-null    object\n",
      " 3   area                371 non-null    object\n",
      " 4   population_density  371 non-null    object\n",
      "dtypes: object(5)\n",
      "memory usage: 14.8+ KB\n"
     ]
    }
   ],
   "source": [
    "#使用info(),檢查dataFrame\n",
    "df1.info()"
   ]
  },
  {
   "cell_type": "code",
   "execution_count": null,
   "metadata": {},
   "outputs": [],
   "source": [
    "#實體方法rename()->改變欄位名稱\n",
    "df2 = df1.rename(columns={\n",
    "    'statistic_yyy':'統計年',\n",
    "    'site_id':'區域別',\n",
    "    'people_total':'年底人口數',\n",
    "    'area':'土地面積',\n",
    "    'population_density':'人口密度'\n",
    "    })\n"
   ]
  },
  {
   "cell_type": "code",
   "execution_count": null,
   "metadata": {},
   "outputs": [],
   "source": [
    "#drop()\n",
    "df3 = df2.drop(index=0)\n",
    "df3"
   ]
  },
  {
   "cell_type": "code",
   "execution_count": 9,
   "metadata": {},
   "outputs": [],
   "source": [
    "#dropna()\n",
    "df4 = df3.dropna()"
   ]
  },
  {
   "cell_type": "code",
   "execution_count": 16,
   "metadata": {},
   "outputs": [
    {
     "name": "stdout",
     "output_type": "stream",
     "text": [
      "<class 'pandas.core.frame.DataFrame'>\n",
      "Index: 370 entries, 1 to 370\n",
      "Data columns (total 5 columns):\n",
      " #   Column  Non-Null Count  Dtype \n",
      "---  ------  --------------  ----- \n",
      " 0   統計年     370 non-null    object\n",
      " 1   區域別     370 non-null    object\n",
      " 2   年底人口數   370 non-null    object\n",
      " 3   土地面積    370 non-null    object\n",
      " 4   人口密度    370 non-null    object\n",
      "dtypes: object(5)\n",
      "memory usage: 17.3+ KB\n"
     ]
    }
   ],
   "source": [
    "#使用replace()\n",
    "df4[-5:].values\n",
    "df5 = df4.replace('… ',0)\n",
    "df5.info()"
   ]
  }
 ],
 "metadata": {
  "kernelspec": {
   "display_name": "Python 3",
   "language": "python",
   "name": "python3"
  },
  "language_info": {
   "codemirror_mode": {
    "name": "ipython",
    "version": 3
   },
   "file_extension": ".py",
   "mimetype": "text/x-python",
   "name": "python",
   "nbconvert_exporter": "python",
   "pygments_lexer": "ipython3",
   "version": "3.10.15"
  }
 },
 "nbformat": 4,
 "nbformat_minor": 2
}
