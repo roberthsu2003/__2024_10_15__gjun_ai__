{
 "cells": [
  {
   "cell_type": "code",
   "execution_count": null,
   "metadata": {},
   "outputs": [],
   "source": [
    "import pandas as pd\n",
    "\n",
    "df = pd.read_csv('world.csv')\n",
    "df1 = df[['洲名','國家','日期','總確診數','新增確診數','總人口數','解封指數']]\n",
    "country = input(\"請輸入國家\")\n",
    "country_df = df1.query('國家==@country')\n",
    "country_df"
   ]
  },
  {
   "cell_type": "code",
   "execution_count": 1,
   "metadata": {},
   "outputs": [
    {
     "name": "stdout",
     "output_type": "stream",
     "text": [
      "日本的最大新增確診數為：104345\n"
     ]
    },
    {
     "data": {
      "text/html": [
       "<div>\n",
       "<style scoped>\n",
       "    .dataframe tbody tr th:only-of-type {\n",
       "        vertical-align: middle;\n",
       "    }\n",
       "\n",
       "    .dataframe tbody tr th {\n",
       "        vertical-align: top;\n",
       "    }\n",
       "\n",
       "    .dataframe thead th {\n",
       "        text-align: right;\n",
       "    }\n",
       "</style>\n",
       "<table border=\"1\" class=\"dataframe\">\n",
       "  <thead>\n",
       "    <tr style=\"text-align: right;\">\n",
       "      <th></th>\n",
       "      <th>洲名</th>\n",
       "      <th>國家</th>\n",
       "      <th>日期</th>\n",
       "      <th>總確診數</th>\n",
       "      <th>新增確診數</th>\n",
       "      <th>總人口數</th>\n",
       "      <th>解封指數</th>\n",
       "    </tr>\n",
       "  </thead>\n",
       "  <tbody>\n",
       "    <tr>\n",
       "      <th>86369</th>\n",
       "      <td>亞洲</td>\n",
       "      <td>日本</td>\n",
       "      <td>2022-02-03</td>\n",
       "      <td>3019169</td>\n",
       "      <td>104345</td>\n",
       "      <td>126050796</td>\n",
       "      <td>99999.0</td>\n",
       "    </tr>\n",
       "  </tbody>\n",
       "</table>\n",
       "</div>"
      ],
      "text/plain": [
       "       洲名  國家          日期     總確診數   新增確診數       總人口數     解封指數\n",
       "86369  亞洲  日本  2022-02-03  3019169  104345  126050796  99999.0"
      ]
     },
     "execution_count": 1,
     "metadata": {},
     "output_type": "execute_result"
    }
   ],
   "source": [
    "import pandas as pd\n",
    "df = pd.read_csv('world.csv')\n",
    "df1 = df[['洲名','國家','日期','總確診數','新增確診數','總人口數','解封指數']]\n",
    "country = input(\"請輸入國家\")\n",
    "country_df = df1.query('國家==@country') \n",
    "country_max = int(country_df['新增確診數'].max())\n",
    "print(f\"{country}的最大新增確診數為：{country_max}\")\n",
    "country_df.query('新增確診數 == @country_max')"
   ]
  }
 ],
 "metadata": {
  "kernelspec": {
   "display_name": "Python 3",
   "language": "python",
   "name": "python3"
  },
  "language_info": {
   "codemirror_mode": {
    "name": "ipython",
    "version": 3
   },
   "file_extension": ".py",
   "mimetype": "text/x-python",
   "name": "python",
   "nbconvert_exporter": "python",
   "pygments_lexer": "ipython3",
   "version": "3.10.15"
  }
 },
 "nbformat": 4,
 "nbformat_minor": 2
}
