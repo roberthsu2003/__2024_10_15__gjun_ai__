{
 "cells": [
  {
   "cell_type": "code",
   "execution_count": null,
   "metadata": {},
   "outputs": [],
   "source": [
    "import csv\n",
    "with open('個股日成交資訊.csv',encoding='utf-8',newline='') as file:\n",
    "    csv_reader = csv.reader(file)\n",
    "    next(csv_reader)\n",
    "    #print(type(csv_reader))\n",
    "    for row in csv_reader:\n",
    "        print(row)"
   ]
  },
  {
   "cell_type": "code",
   "execution_count": null,
   "metadata": {},
   "outputs": [],
   "source": [
    "#請取csv和過濾資料\n",
    "import csv\n",
    "with open('個股日成交資訊.csv',encoding='utf-8',newline='') as file:\n",
    "    csv_dictReader = csv.DictReader(file,['證券代號','證券名稱','開盤價','收盤價','漲跌價差','成交筆數'],restkey='不要')\n",
    "    next(csv_dictReader)\n",
    "    csv_list:list[dict] = list(csv_dictReader)\n",
    "\n",
    "for row in csv_list:\n",
    "    del row['不要']\n",
    "    print(row)\n",
    "    \n"
   ]
  },
  {
   "cell_type": "code",
   "execution_count": 23,
   "metadata": {},
   "outputs": [],
   "source": [
    "#存成為csv檔\n",
    "import csv\n",
    "with open('new.csv',mode='w',encoding='utf-8',newline='') as file:\n",
    "    csv_writter = csv.DictWriter(file,['證券代號','證券名稱','開盤價','收盤價','漲跌價差','成交筆數'])\n",
    "    csv_writter.writeheader()\n",
    "    csv_writter.writerows(csv_list)\n"
   ]
  }
 ],
 "metadata": {
  "kernelspec": {
   "display_name": "Python 3",
   "language": "python",
   "name": "python3"
  },
  "language_info": {
   "codemirror_mode": {
    "name": "ipython",
    "version": 3
   },
   "file_extension": ".py",
   "mimetype": "text/x-python",
   "name": "python",
   "nbconvert_exporter": "python",
   "pygments_lexer": "ipython3",
   "version": "3.10.15"
  }
 },
 "nbformat": 4,
 "nbformat_minor": 2
}
